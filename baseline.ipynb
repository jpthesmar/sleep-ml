{
 "cells": [
  {
   "cell_type": "code",
   "execution_count": 2,
   "metadata": {},
   "outputs": [],
   "source": [
    "import pandas as pd\n",
    "import numpy as np\n",
    "import os\n",
    "\n",
    "def combine_data():\n",
    "    # Directory containing participant CSV files\n",
    "    data_dir = 'downsampled_data'\n",
    "\n",
    "    # Initialize an empty list to store dataframes\n",
    "    all_data = []\n",
    "\n",
    "    # Loop through each participant's file\n",
    "    for filename in os.listdir(data_dir):\n",
    "        if filename.endswith('.csv'):\n",
    "            # Load the CSV file\n",
    "            participant_data = pd.read_csv(\"downsampled_data/\"+filename)\n",
    "            \n",
    "            # Append to the list\n",
    "            all_data.append(participant_data)\n",
    "\n",
    "    # Combine all data into a single DataFrame\n",
    "    combined_data = pd.concat(all_data, ignore_index=True)\n",
    "    return combined_data"
   ]
  },
  {
   "cell_type": "code",
   "execution_count": 6,
   "metadata": {},
   "outputs": [],
   "source": [
    "from sklearn.model_selection import train_test_split\n",
    "\n",
    "combined_data = combine_data()\n",
    "\n",
    "#keep original columns\n",
    "# orig_cols = ['sleep_stage', 'BVP_mean', 'IBI_mean', 'EDA_mean', 'TEMP_mean', 'HR_mean', 'mag_mean' ]\n",
    "\n",
    "# combined_data = combined_data[orig_cols]\n",
    "\n",
    "X = combined_data.drop('sleep_stage', axis=1)\n",
    "y = combined_data['sleep_stage']\n",
    "\n",
    "# Split data into train (80%) and test (20%)\n",
    "X_train, X_test, y_train, y_test = train_test_split(\n",
    "    X, \n",
    "    y, \n",
    "    test_size=0.2, \n",
    "    stratify=y,  # Preserve class distribution\n",
    "    random_state=42\n",
    ")"
   ]
  },
  {
   "cell_type": "code",
   "execution_count": 7,
   "metadata": {},
   "outputs": [
    {
     "name": "stdout",
     "output_type": "stream",
     "text": [
      "Baseline Accuracy: 50.23%\n"
     ]
    }
   ],
   "source": [
    "from sklearn.dummy import DummyClassifier\n",
    "\n",
    "# Baseline model: Predicts the most frequent class in y_train\n",
    "baseline_model = DummyClassifier(strategy=\"most_frequent\")\n",
    "baseline_model.fit(X_train, y_train)  # \"Trains\" by memorizing the majority class\n",
    "\n",
    "# Evaluate on test data\n",
    "baseline_accuracy = baseline_model.score(X_test, y_test)\n",
    "print(f\"Baseline Accuracy: {baseline_accuracy:.2%}\")"
   ]
  },
  {
   "cell_type": "code",
   "execution_count": 10,
   "metadata": {},
   "outputs": [
    {
     "data": {
      "text/plain": [
       "sleep_stage\n",
       "N2         0.502300\n",
       "W          0.245164\n",
       "N1         0.112338\n",
       "R          0.107053\n",
       "N3         0.032612\n",
       "Missing    0.000533\n",
       "Name: proportion, dtype: float64"
      ]
     },
     "execution_count": 10,
     "metadata": {},
     "output_type": "execute_result"
    }
   ],
   "source": [
    "# give percentages of each class in y\n",
    "combined_data['sleep_stage'].value_counts(normalize=True)"
   ]
  },
  {
   "cell_type": "code",
   "execution_count": 11,
   "metadata": {},
   "outputs": [
    {
     "name": "stdout",
     "output_type": "stream",
     "text": [
      "Stratified Accuracy: 33.95%\n",
      "Uniform Random Accuracy: 16.73%\n"
     ]
    }
   ],
   "source": [
    "# Stratified baseline (matches class distribution)\n",
    "stratified_model = DummyClassifier(strategy=\"stratified\")\n",
    "stratified_model.fit(X_train, y_train)\n",
    "stratified_accuracy = stratified_model.score(X_test, y_test)\n",
    "\n",
    "# Uniform random baseline\n",
    "uniform_model = DummyClassifier(strategy=\"uniform\")\n",
    "uniform_model.fit(X_train, y_train)\n",
    "uniform_accuracy = uniform_model.score(X_test, y_test)\n",
    "\n",
    "print(f\"Stratified Accuracy: {stratified_accuracy:.2%}\")\n",
    "print(f\"Uniform Random Accuracy: {uniform_accuracy:.2%}\")"
   ]
  },
  {
   "cell_type": "code",
   "execution_count": null,
   "metadata": {},
   "outputs": [],
   "source": []
  }
 ],
 "metadata": {
  "kernelspec": {
   "display_name": "Python 3",
   "language": "python",
   "name": "python3"
  },
  "language_info": {
   "codemirror_mode": {
    "name": "ipython",
    "version": 3
   },
   "file_extension": ".py",
   "mimetype": "text/x-python",
   "name": "python",
   "nbconvert_exporter": "python",
   "pygments_lexer": "ipython3",
   "version": "3.12.1"
  }
 },
 "nbformat": 4,
 "nbformat_minor": 2
}
