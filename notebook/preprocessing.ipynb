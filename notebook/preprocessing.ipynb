{
 "cells": [
  {
   "cell_type": "code",
   "execution_count": 4,
   "metadata": {},
   "outputs": [
    {
     "name": "stdout",
     "output_type": "stream",
     "text": [
      "Index(['TIMESTAMP', 'BVP', 'ACC_X', 'ACC_Y', 'ACC_Z', 'TEMP', 'EDA', 'HR',\n",
      "       'IBI', 'Sleep_Stage', 'Obstructive_Apnea', 'Central_Apnea', 'Hypopnea',\n",
      "       'Multiple_Events'],\n",
      "      dtype='object')\n"
     ]
    }
   ],
   "source": [
    "import pandas as pd\n",
    "from IPython.display import display\n",
    "\n",
    "file_path = \"../data/S004_whole_df.csv\"\n",
    "data = pd.read_csv(file_path)\n",
    "\n",
    "print(data.columns)"
   ]
  },
  {
   "cell_type": "code",
   "execution_count": 5,
   "metadata": {},
   "outputs": [
    {
     "data": {
      "text/html": [
       "<div>\n",
       "<style scoped>\n",
       "    .dataframe tbody tr th:only-of-type {\n",
       "        vertical-align: middle;\n",
       "    }\n",
       "\n",
       "    .dataframe tbody tr th {\n",
       "        vertical-align: top;\n",
       "    }\n",
       "\n",
       "    .dataframe thead th {\n",
       "        text-align: right;\n",
       "    }\n",
       "</style>\n",
       "<table border=\"1\" class=\"dataframe\">\n",
       "  <thead>\n",
       "    <tr style=\"text-align: right;\">\n",
       "      <th></th>\n",
       "      <th>TIMESTAMP</th>\n",
       "      <th>BVP</th>\n",
       "      <th>ACC_X</th>\n",
       "      <th>ACC_Y</th>\n",
       "      <th>ACC_Z</th>\n",
       "      <th>TEMP</th>\n",
       "      <th>EDA</th>\n",
       "      <th>HR</th>\n",
       "      <th>IBI</th>\n",
       "      <th>Sleep_Stage</th>\n",
       "    </tr>\n",
       "  </thead>\n",
       "  <tbody>\n",
       "    <tr>\n",
       "      <th>0</th>\n",
       "      <td>0.000000</td>\n",
       "      <td>-6.92</td>\n",
       "      <td>61.0</td>\n",
       "      <td>-13.0</td>\n",
       "      <td>-10.0</td>\n",
       "      <td>31.69</td>\n",
       "      <td>9.212656</td>\n",
       "      <td>74.0</td>\n",
       "      <td>NaN</td>\n",
       "      <td>P</td>\n",
       "    </tr>\n",
       "    <tr>\n",
       "      <th>1</th>\n",
       "      <td>0.015625</td>\n",
       "      <td>-11.33</td>\n",
       "      <td>61.0</td>\n",
       "      <td>-13.0</td>\n",
       "      <td>-10.0</td>\n",
       "      <td>31.69</td>\n",
       "      <td>9.212656</td>\n",
       "      <td>74.0</td>\n",
       "      <td>NaN</td>\n",
       "      <td>P</td>\n",
       "    </tr>\n",
       "    <tr>\n",
       "      <th>2</th>\n",
       "      <td>0.031250</td>\n",
       "      <td>-15.81</td>\n",
       "      <td>60.0</td>\n",
       "      <td>-14.0</td>\n",
       "      <td>-10.0</td>\n",
       "      <td>31.69</td>\n",
       "      <td>9.212656</td>\n",
       "      <td>74.0</td>\n",
       "      <td>NaN</td>\n",
       "      <td>P</td>\n",
       "    </tr>\n",
       "    <tr>\n",
       "      <th>3</th>\n",
       "      <td>0.046875</td>\n",
       "      <td>-19.85</td>\n",
       "      <td>60.0</td>\n",
       "      <td>-14.0</td>\n",
       "      <td>-10.0</td>\n",
       "      <td>31.69</td>\n",
       "      <td>9.212656</td>\n",
       "      <td>74.0</td>\n",
       "      <td>NaN</td>\n",
       "      <td>P</td>\n",
       "    </tr>\n",
       "    <tr>\n",
       "      <th>4</th>\n",
       "      <td>0.062500</td>\n",
       "      <td>-22.79</td>\n",
       "      <td>61.0</td>\n",
       "      <td>-14.0</td>\n",
       "      <td>-10.0</td>\n",
       "      <td>31.69</td>\n",
       "      <td>9.212656</td>\n",
       "      <td>74.0</td>\n",
       "      <td>NaN</td>\n",
       "      <td>P</td>\n",
       "    </tr>\n",
       "  </tbody>\n",
       "</table>\n",
       "</div>"
      ],
      "text/plain": [
       "   TIMESTAMP    BVP  ACC_X  ACC_Y  ACC_Z   TEMP       EDA    HR  IBI  \\\n",
       "0   0.000000  -6.92   61.0  -13.0  -10.0  31.69  9.212656  74.0  NaN   \n",
       "1   0.015625 -11.33   61.0  -13.0  -10.0  31.69  9.212656  74.0  NaN   \n",
       "2   0.031250 -15.81   60.0  -14.0  -10.0  31.69  9.212656  74.0  NaN   \n",
       "3   0.046875 -19.85   60.0  -14.0  -10.0  31.69  9.212656  74.0  NaN   \n",
       "4   0.062500 -22.79   61.0  -14.0  -10.0  31.69  9.212656  74.0  NaN   \n",
       "\n",
       "  Sleep_Stage  \n",
       "0           P  \n",
       "1           P  \n",
       "2           P  \n",
       "3           P  \n",
       "4           P  "
      ]
     },
     "metadata": {},
     "output_type": "display_data"
    }
   ],
   "source": [
    "df = data.drop(['Obstructive_Apnea','Central_Apnea','Hypopnea','Multiple_Events'], axis=1)\n",
    "display(df.head())"
   ]
  },
  {
   "cell_type": "code",
   "execution_count": 6,
   "metadata": {},
   "outputs": [
    {
     "name": "stdout",
     "output_type": "stream",
     "text": [
      "['P' 'W' 'N1' 'N2' 'N3']\n"
     ]
    }
   ],
   "source": [
    "unique_values = df['Sleep_Stage'].unique()\n",
    "print(unique_values)"
   ]
  },
  {
   "cell_type": "code",
   "execution_count": 8,
   "metadata": {},
   "outputs": [
    {
     "name": "stdout",
     "output_type": "stream",
     "text": [
      "0              0.000000\n",
      "1              0.015625\n",
      "2              0.031250\n",
      "3              0.046875\n",
      "4              0.062500\n",
      "               ...     \n",
      "1982140    30970.937500\n",
      "1982141    30970.953125\n",
      "1982142    30970.968750\n",
      "1982143    30970.984375\n",
      "1982144    30971.000000\n",
      "Name: TIMESTAMP, Length: 1982145, dtype: float64\n"
     ]
    }
   ],
   "source": [
    "print(df.iloc[:, 0])"
   ]
  },
  {
   "cell_type": "code",
   "execution_count": null,
   "metadata": {},
   "outputs": [],
   "source": []
  }
 ],
 "metadata": {
  "kernelspec": {
   "display_name": ".venv",
   "language": "python",
   "name": "python3"
  },
  "language_info": {
   "codemirror_mode": {
    "name": "ipython",
    "version": 3
   },
   "file_extension": ".py",
   "mimetype": "text/x-python",
   "name": "python",
   "nbconvert_exporter": "python",
   "pygments_lexer": "ipython3",
   "version": "3.12.9"
  }
 },
 "nbformat": 4,
 "nbformat_minor": 2
}
