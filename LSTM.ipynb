{
 "cells": [
  {
   "cell_type": "code",
   "execution_count": 1,
   "metadata": {},
   "outputs": [],
   "source": [
    "import pandas as pd\n",
    "import numpy as np\n",
    "import os\n",
    "from sklearn.preprocessing import StandardScaler\n",
    "\n",
    "\n",
    "def combine_data():\n",
    "    # Directory containing participant CSV files\n",
    "    data_dir = 'downsampled_data'\n",
    "\n",
    "    # Initialize an empty list to store dataframes\n",
    "    all_data = []\n",
    "\n",
    "    # Loop through each participant's file\n",
    "    for filename in os.listdir(data_dir):\n",
    "        if filename.endswith('.csv'):\n",
    "            # Load the CSV file\n",
    "            participant_data = pd.read_csv(\"downsampled_data/\"+filename)\n",
    "            \n",
    "            # Append to the list\n",
    "            all_data.append(participant_data)\n",
    "\n",
    "    # Combine all data into a single DataFrame\n",
    "    combined_data = pd.concat(all_data, ignore_index=True)\n",
    "    return combined_data\n"
   ]
  },
  {
   "cell_type": "code",
   "execution_count": null,
   "metadata": {},
   "outputs": [
    {
     "name": "stdout",
     "output_type": "stream",
     "text": [
      "sleep_stage\n",
      "N2         32976\n",
      "W          16095\n",
      "N1          7375\n",
      "R           7028\n",
      "Missing       35\n",
      "Name: count, dtype: int64\n",
      "(63509, 28)\n",
      "Index(['participant_id', 'BVP_mean', 'BVP_std', 'BVP_min', 'BVP_max',\n",
      "       'BVP_range', 'BVP_median', 'SDNN', 'median_nni', 'IBI_mean', 'x_std',\n",
      "       'y_std', 'z_std', 'mag_mean', 'mag_std', 'mag_max', 'movement_density',\n",
      "       'burst_count', 'EDA_mean', 'EDA_std', 'EDA_trend', 'TEMP_mean',\n",
      "       'TEMP_std', 'TEMP_slope', 'HR_mean', 'HR_std', 'HR_range', 'HR_trend'],\n",
      "      dtype='object')\n"
     ]
    }
   ],
   "source": [
    "# Check the combined data\n",
    "# print(combined_data)\n",
    "combined_data = combine_data()\n",
    "#remove rows hwere lseep stage is N3 and Missing\n",
    "combined_data = combined_data[combined_data['sleep_stage'] != 'N3']\n",
    "\n",
    "#drop window times\n",
    "combined_data = combined_data.drop(columns=[\"window_start_time\", \"window_end_time\"])\n",
    "\n",
    "# Encode sleep stage labels\n",
    "label_mapping = {\n",
    "    'W': 0,\n",
    "    'N1': 1,\n",
    "    'N2': 2,\n",
    "    # 'N3': 3,\n",
    "    'R': 3\n",
    "}\n",
    "num_classes = len(label_mapping)\n",
    "combined_data['sleep_stage'] = combined_data['sleep_stage'].map(label_mapping)\n",
    "\n",
    "\n",
    "features = combined_data.drop(columns=['sleep_stage'])\n",
    "scaled_features = features.drop(columns=['participant_id'])\n",
    "print(features.shape)\n",
    "print(features.columns)\n",
    "\n",
    "scaler = StandardScaler()\n",
    "# scaled without participant id\n",
    "scaled_features[scaled_features.columns] = scaler.fit_transform(scaled_features[scaled_features.columns])\n",
    "scaled_features['participant_id'] = features['participant_id'] # add p_id back\n",
    "num_features = features.shape[1] # includes participant_id\n",
    "\n",
    "# Combine scaled features and labels\n",
    "data_processed = np.hstack((scaled_features, combined_data[['sleep_stage']].values))\n"
   ]
  },
  {
   "cell_type": "code",
   "execution_count": 3,
   "metadata": {},
   "outputs": [
    {
     "name": "stdout",
     "output_type": "stream",
     "text": [
      "sleep_stage\n",
      "2.0    32976\n",
      "0.0    16095\n",
      "1.0     7375\n",
      "3.0     7028\n",
      "Name: count, dtype: int64\n"
     ]
    }
   ],
   "source": [
    "class_dis = combined_data['sleep_stage'].value_counts()\n",
    "print(class_dis)"
   ]
  },
  {
   "cell_type": "code",
   "execution_count": 18,
   "metadata": {},
   "outputs": [],
   "source": [
    "from scipy.stats import mode\n",
    "def create_sequences(data, sequence_length):\n",
    "    X, y = [], []\n",
    "    for i in range(len(data) - sequence_length):\n",
    "        \n",
    "        # Extract the labels for the sequence\n",
    "        sequence_labels = data[i:i+sequence_length, -1]  # Labels: sleep stage)\n",
    "        if np.isnan(sequence_labels).any(): # skip nan labels\n",
    "            continue\n",
    "        \n",
    "        X.append(data[i:i+sequence_length, :-1])  # Features (except the last which is sleep_stage)\n",
    "        \n",
    "        \n",
    "        # Calculate the mode label (most frequent label in the sequence)\n",
    "        # mode_label = mode(sequence_labels).mode  # Use scipy.stats.mode\n",
    "        y.append(data[i:i+sequence_length, -1][-1])\n",
    "        # print(data[i:i+sequence_length, -1])\n",
    "    # print(np.array(X).shape, np.array(y).shape)\n",
    "    return np.array(X), np.array(y)\n",
    "\n",
    "sequence_length = 30  # 10 epochs = 5 minutes\n",
    "# X, y = create_sequences(data_processed, sequence_length)"
   ]
  },
  {
   "cell_type": "code",
   "execution_count": 19,
   "metadata": {},
   "outputs": [],
   "source": [
    "def process_df(df):\n",
    "    df = df.drop(columns=['participant_id'])\n",
    "    df_features = df.drop(columns=['sleep_stage'])\n",
    "    data_proc = np.hstack((df_features, df[['sleep_stage']].values))\n",
    "    return data_proc"
   ]
  },
  {
   "cell_type": "code",
   "execution_count": 20,
   "metadata": {},
   "outputs": [],
   "source": [
    "from sklearn.model_selection import train_test_split\n",
    "\n",
    "p_ids = np.unique(combined_data[\"participant_id\"].values)\n",
    "\n",
    "# Split by participant ID\n",
    "train_ids, test_ids = train_test_split(np.unique(p_ids), test_size=0.2, random_state=42)\n",
    "train_ids, val_ids = train_test_split(train_ids, test_size=0.25, random_state=42)  # 60% train, 20% val, 20% test\n",
    "\n",
    "# Create splits\n",
    "train_data = combined_data[combined_data['participant_id'].isin(train_ids)]\n",
    "val_data = combined_data[combined_data['participant_id'].isin(val_ids)]\n",
    "test_data = combined_data[combined_data['participant_id'].isin(test_ids)]\n",
    "\n",
    "data_processed_tr = process_df(train_data)\n",
    "# print(data_processed_tr.shape)\n",
    "data_processed_val = process_df(val_data)\n",
    "# print(data_processed_val.shape)\n",
    "data_processed_test = process_df(test_data)\n",
    "# print(data_processed_test.shape)\n",
    "\n",
    "# Create sequences for each split\n",
    "X_train, y_train = create_sequences(data_processed_tr, sequence_length)\n",
    "# print(X_train.shape, y_train.shape)\n",
    "X_val, y_val = create_sequences(data_processed_val, sequence_length)\n",
    "# print(X_val.shape, y_val.shape)\n",
    "X_test, y_test = create_sequences(data_processed_test, sequence_length)\n",
    "# print(X_test.shape, y_test.shape)\n"
   ]
  },
  {
   "cell_type": "code",
   "execution_count": 21,
   "metadata": {},
   "outputs": [],
   "source": [
    "from sklearn.utils.class_weight import compute_class_weight\n",
    "\n",
    "# Compute class weights\n",
    "y_train_flat = y_train.ravel()\n",
    "class_weights = compute_class_weight('balanced', classes=np.unique(y_train_flat), y=y_train_flat)\n",
    "class_weights = dict(enumerate(class_weights))"
   ]
  },
  {
   "cell_type": "markdown",
   "metadata": {},
   "source": [
    "# Model 3 (7-layer)"
   ]
  },
  {
   "cell_type": "code",
   "execution_count": 22,
   "metadata": {},
   "outputs": [
    {
     "name": "stdout",
     "output_type": "stream",
     "text": [
      "Epoch 1/100\n",
      "\u001b[1m1154/1154\u001b[0m \u001b[32m━━━━━━━━━━━━━━━━━━━━\u001b[0m\u001b[37m\u001b[0m \u001b[1m49s\u001b[0m 38ms/step - accuracy: 0.3418 - loss: 1.3615 - val_accuracy: 0.3097 - val_loss: 1.3732 - learning_rate: 1.0000e-04\n",
      "Epoch 2/100\n",
      "\u001b[1m1154/1154\u001b[0m \u001b[32m━━━━━━━━━━━━━━━━━━━━\u001b[0m\u001b[37m\u001b[0m \u001b[1m44s\u001b[0m 38ms/step - accuracy: 0.3691 - loss: 1.2894 - val_accuracy: 0.2888 - val_loss: 1.3990 - learning_rate: 1.0000e-04\n",
      "Epoch 3/100\n",
      "\u001b[1m1154/1154\u001b[0m \u001b[32m━━━━━━━━━━━━━━━━━━━━\u001b[0m\u001b[37m\u001b[0m \u001b[1m41s\u001b[0m 35ms/step - accuracy: 0.3659 - loss: 1.2649 - val_accuracy: 0.2819 - val_loss: 1.4214 - learning_rate: 1.0000e-04\n",
      "Epoch 4/100\n",
      "\u001b[1m1154/1154\u001b[0m \u001b[32m━━━━━━━━━━━━━━━━━━━━\u001b[0m\u001b[37m\u001b[0m \u001b[1m54s\u001b[0m 47ms/step - accuracy: 0.3698 - loss: 1.2414 - val_accuracy: 0.2957 - val_loss: 1.4188 - learning_rate: 1.0000e-04\n",
      "Epoch 5/100\n",
      "\u001b[1m1154/1154\u001b[0m \u001b[32m━━━━━━━━━━━━━━━━━━━━\u001b[0m\u001b[37m\u001b[0m \u001b[1m49s\u001b[0m 42ms/step - accuracy: 0.4026 - loss: 1.2137 - val_accuracy: 0.2652 - val_loss: 1.4822 - learning_rate: 1.0000e-04\n",
      "Epoch 6/100\n",
      "\u001b[1m1154/1154\u001b[0m \u001b[32m━━━━━━━━━━━━━━━━━━━━\u001b[0m\u001b[37m\u001b[0m \u001b[1m52s\u001b[0m 45ms/step - accuracy: 0.4072 - loss: 1.2022 - val_accuracy: 0.3024 - val_loss: 1.4251 - learning_rate: 1.0000e-04\n",
      "Epoch 7/100\n",
      "\u001b[1m1154/1154\u001b[0m \u001b[32m━━━━━━━━━━━━━━━━━━━━\u001b[0m\u001b[37m\u001b[0m \u001b[1m82s\u001b[0m 45ms/step - accuracy: 0.4327 - loss: 1.1762 - val_accuracy: 0.2906 - val_loss: 1.4722 - learning_rate: 2.0000e-05\n",
      "Epoch 8/100\n",
      "\u001b[1m1154/1154\u001b[0m \u001b[32m━━━━━━━━━━━━━━━━━━━━\u001b[0m\u001b[37m\u001b[0m \u001b[1m65s\u001b[0m 56ms/step - accuracy: 0.4372 - loss: 1.1567 - val_accuracy: 0.2911 - val_loss: 1.4830 - learning_rate: 2.0000e-05\n",
      "Epoch 9/100\n",
      "\u001b[1m1154/1154\u001b[0m \u001b[32m━━━━━━━━━━━━━━━━━━━━\u001b[0m\u001b[37m\u001b[0m \u001b[1m57s\u001b[0m 49ms/step - accuracy: 0.4363 - loss: 1.1529 - val_accuracy: 0.2943 - val_loss: 1.4832 - learning_rate: 2.0000e-05\n",
      "Epoch 10/100\n",
      "\u001b[1m1154/1154\u001b[0m \u001b[32m━━━━━━━━━━━━━━━━━━━━\u001b[0m\u001b[37m\u001b[0m \u001b[1m58s\u001b[0m 50ms/step - accuracy: 0.4481 - loss: 1.1422 - val_accuracy: 0.3001 - val_loss: 1.4853 - learning_rate: 2.0000e-05\n",
      "Epoch 11/100\n",
      "\u001b[1m1154/1154\u001b[0m \u001b[32m━━━━━━━━━━━━━━━━━━━━\u001b[0m\u001b[37m\u001b[0m \u001b[1m55s\u001b[0m 48ms/step - accuracy: 0.4529 - loss: 1.1512 - val_accuracy: 0.2989 - val_loss: 1.5017 - learning_rate: 2.0000e-05\n"
     ]
    }
   ],
   "source": [
    "from tensorflow.keras.models import Sequential\n",
    "from tensorflow.keras.layers import Input, LSTM, Dense, Dropout, Bidirectional, BatchNormalization\n",
    "from tensorflow.keras.optimizers import Adam\n",
    "import tensorflow as tf\n",
    "\n",
    "model = Sequential()\n",
    "model.add(Input(shape=(sequence_length, num_features-1)))\n",
    "model.add(LSTM(128, return_sequences=True))\n",
    "model.add(Dropout(0.5))\n",
    "model.add(BatchNormalization())\n",
    "model.add(LSTM(64, return_sequences=False))\n",
    "model.add(Dropout(0.5))\n",
    "model.add(Dense(64, activation='relu'))\n",
    "model.add(Dense(num_classes, activation='softmax'))\n",
    "\n",
    "model.compile(\n",
    "    optimizer=tf.keras.optimizers.Adam(learning_rate=1e-4),\n",
    "    loss='sparse_categorical_crossentropy',\n",
    "    metrics=['accuracy']\n",
    ")\n",
    "\n",
    "history = model.fit(\n",
    "    X_train, y_train,\n",
    "    validation_data=(X_val, y_val),\n",
    "    epochs=100,\n",
    "    batch_size=32,\n",
    "    class_weight=class_weights,\n",
    "    callbacks=[\n",
    "        tf.keras.callbacks.EarlyStopping(patience=10, restore_best_weights=True),\n",
    "        tf.keras.callbacks.ReduceLROnPlateau(monitor='val_loss', factor=0.2, patience=5)\n",
    "    ]\n",
    ")\n",
    "\n",
    "model.save(\"lstm_7layer.keras\")"
   ]
  },
  {
   "cell_type": "markdown",
   "metadata": {},
   "source": [
    "## Model 2 (5 layer)"
   ]
  },
  {
   "cell_type": "code",
   "execution_count": 16,
   "metadata": {},
   "outputs": [
    {
     "name": "stdout",
     "output_type": "stream",
     "text": [
      "Epoch 1/10\n",
      "\u001b[1m1155/1155\u001b[0m \u001b[32m━━━━━━━━━━━━━━━━━━━━\u001b[0m\u001b[37m\u001b[0m \u001b[1m37s\u001b[0m 28ms/step - accuracy: 0.3570 - loss: 1.3150 - val_accuracy: 0.2282 - val_loss: 1.3648\n",
      "Epoch 2/10\n",
      "\u001b[1m1155/1155\u001b[0m \u001b[32m━━━━━━━━━━━━━━━━━━━━\u001b[0m\u001b[37m\u001b[0m \u001b[1m30s\u001b[0m 26ms/step - accuracy: 0.3189 - loss: 1.2688 - val_accuracy: 0.3195 - val_loss: 1.2813\n",
      "Epoch 3/10\n",
      "\u001b[1m1155/1155\u001b[0m \u001b[32m━━━━━━━━━━━━━━━━━━━━\u001b[0m\u001b[37m\u001b[0m \u001b[1m36s\u001b[0m 31ms/step - accuracy: 0.3260 - loss: 1.2325 - val_accuracy: 0.2908 - val_loss: 1.3670\n",
      "Epoch 4/10\n",
      "\u001b[1m1155/1155\u001b[0m \u001b[32m━━━━━━━━━━━━━━━━━━━━\u001b[0m\u001b[37m\u001b[0m \u001b[1m36s\u001b[0m 31ms/step - accuracy: 0.3388 - loss: 1.2295 - val_accuracy: 0.2887 - val_loss: 1.3032\n",
      "Epoch 5/10\n",
      "\u001b[1m1155/1155\u001b[0m \u001b[32m━━━━━━━━━━━━━━━━━━━━\u001b[0m\u001b[37m\u001b[0m \u001b[1m29s\u001b[0m 25ms/step - accuracy: 0.3464 - loss: 1.2226 - val_accuracy: 0.4012 - val_loss: 1.2949\n",
      "Epoch 6/10\n",
      "\u001b[1m1155/1155\u001b[0m \u001b[32m━━━━━━━━━━━━━━━━━━━━\u001b[0m\u001b[37m\u001b[0m \u001b[1m33s\u001b[0m 28ms/step - accuracy: 0.3880 - loss: 1.2092 - val_accuracy: 0.3126 - val_loss: 1.3314\n",
      "Epoch 7/10\n",
      "\u001b[1m1155/1155\u001b[0m \u001b[32m━━━━━━━━━━━━━━━━━━━━\u001b[0m\u001b[37m\u001b[0m \u001b[1m35s\u001b[0m 30ms/step - accuracy: 0.3579 - loss: 1.2210 - val_accuracy: 0.3399 - val_loss: 1.2925\n",
      "Epoch 8/10\n",
      "\u001b[1m1155/1155\u001b[0m \u001b[32m━━━━━━━━━━━━━━━━━━━━\u001b[0m\u001b[37m\u001b[0m \u001b[1m34s\u001b[0m 30ms/step - accuracy: 0.3879 - loss: 1.1930 - val_accuracy: 0.3339 - val_loss: 1.2883\n",
      "Epoch 9/10\n",
      "\u001b[1m1155/1155\u001b[0m \u001b[32m━━━━━━━━━━━━━━━━━━━━\u001b[0m\u001b[37m\u001b[0m \u001b[1m38s\u001b[0m 32ms/step - accuracy: 0.3855 - loss: 1.2018 - val_accuracy: 0.3741 - val_loss: 1.3059\n",
      "Epoch 10/10\n",
      "\u001b[1m1155/1155\u001b[0m \u001b[32m━━━━━━━━━━━━━━━━━━━━\u001b[0m\u001b[37m\u001b[0m \u001b[1m39s\u001b[0m 31ms/step - accuracy: 0.3869 - loss: 1.2014 - val_accuracy: 0.3030 - val_loss: 1.3354\n"
     ]
    }
   ],
   "source": [
    "from tensorflow.keras.models import Sequential\n",
    "from tensorflow.keras.layers import LSTM, Dense, Dropout, Input\n",
    "\n",
    "# Define the LSTM model\n",
    "model = Sequential()\n",
    "model.add(LSTM(128, return_sequences=True))\n",
    "model.add(Dropout(0.3))\n",
    "model.add(LSTM(64, return_sequences=False))\n",
    "model.add(Dropout(0.3))\n",
    "model.add(Dense(num_classes, activation='softmax'))  # Output layer\n",
    "\n",
    "# Compile the model\n",
    "model.compile(optimizer='adam', loss='sparse_categorical_crossentropy', metrics=['accuracy'])\n",
    "\n",
    "# Train the model\n",
    "history = model.fit(\n",
    "    X_train, y_train,\n",
    "    class_weight=class_weights,\n",
    "    validation_data=(X_val, y_val),\n",
    "    epochs=10,\n",
    "    batch_size=32\n",
    ")\n",
    "\n",
    "model.save(\"lstm_5layer.keras\")"
   ]
  },
  {
   "cell_type": "markdown",
   "metadata": {},
   "source": [
    "# Model 1 (3-layer)"
   ]
  },
  {
   "cell_type": "code",
   "execution_count": 14,
   "metadata": {},
   "outputs": [
    {
     "name": "stdout",
     "output_type": "stream",
     "text": [
      "Epoch 1/10\n",
      "\u001b[1m578/578\u001b[0m \u001b[32m━━━━━━━━━━━━━━━━━━━━\u001b[0m\u001b[37m\u001b[0m \u001b[1m9s\u001b[0m 11ms/step - accuracy: 0.5317 - loss: 1.1767\n",
      "Epoch 2/10\n",
      "\u001b[1m578/578\u001b[0m \u001b[32m━━━━━━━━━━━━━━━━━━━━\u001b[0m\u001b[37m\u001b[0m \u001b[1m6s\u001b[0m 10ms/step - accuracy: 0.5811 - loss: 1.0938\n",
      "Epoch 3/10\n",
      "\u001b[1m578/578\u001b[0m \u001b[32m━━━━━━━━━━━━━━━━━━━━\u001b[0m\u001b[37m\u001b[0m \u001b[1m6s\u001b[0m 10ms/step - accuracy: 0.5867 - loss: 1.0720\n",
      "Epoch 4/10\n",
      "\u001b[1m578/578\u001b[0m \u001b[32m━━━━━━━━━━━━━━━━━━━━\u001b[0m\u001b[37m\u001b[0m \u001b[1m6s\u001b[0m 10ms/step - accuracy: 0.5879 - loss: 1.0768\n",
      "Epoch 5/10\n",
      "\u001b[1m578/578\u001b[0m \u001b[32m━━━━━━━━━━━━━━━━━━━━\u001b[0m\u001b[37m\u001b[0m \u001b[1m6s\u001b[0m 11ms/step - accuracy: 0.5932 - loss: 1.0615\n",
      "Epoch 6/10\n",
      "\u001b[1m578/578\u001b[0m \u001b[32m━━━━━━━━━━━━━━━━━━━━\u001b[0m\u001b[37m\u001b[0m \u001b[1m6s\u001b[0m 10ms/step - accuracy: 0.5903 - loss: 1.0674\n",
      "Epoch 7/10\n",
      "\u001b[1m578/578\u001b[0m \u001b[32m━━━━━━━━━━━━━━━━━━━━\u001b[0m\u001b[37m\u001b[0m \u001b[1m6s\u001b[0m 10ms/step - accuracy: 0.5896 - loss: 1.0652\n",
      "Epoch 8/10\n",
      "\u001b[1m578/578\u001b[0m \u001b[32m━━━━━━━━━━━━━━━━━━━━\u001b[0m\u001b[37m\u001b[0m \u001b[1m6s\u001b[0m 10ms/step - accuracy: 0.5925 - loss: 1.0648\n",
      "Epoch 9/10\n",
      "\u001b[1m578/578\u001b[0m \u001b[32m━━━━━━━━━━━━━━━━━━━━\u001b[0m\u001b[37m\u001b[0m \u001b[1m6s\u001b[0m 10ms/step - accuracy: 0.5875 - loss: 1.0734\n",
      "Epoch 10/10\n",
      "\u001b[1m578/578\u001b[0m \u001b[32m━━━━━━━━━━━━━━━━━━━━\u001b[0m\u001b[37m\u001b[0m \u001b[1m6s\u001b[0m 10ms/step - accuracy: 0.5939 - loss: 1.0655\n"
     ]
    }
   ],
   "source": [
    "from tensorflow.keras.models import Sequential\n",
    "from tensorflow.keras.layers import LSTM, Dense, Dropout\n",
    "\n",
    "# Define the LSTM model\n",
    "model = Sequential()\n",
    "model.add(Input(shape=(sequence_length, num_features-1)))\n",
    "model.add(LSTM(64, return_sequences=False))\n",
    "model.add(Dropout(0.2))\n",
    "model.add(Dense(num_classes, activation='softmax'))  # Output layer\n",
    "\n",
    "# Compile the model\n",
    "model.compile(optimizer='adam', loss='sparse_categorical_crossentropy', metrics=['accuracy'])\n",
    "\n",
    "# Train the model\n",
    "model.fit(X_train, y_train, epochs=10, batch_size=64)\n",
    "\n",
    "model.save('lstm_3layer.keras')"
   ]
  },
  {
   "cell_type": "markdown",
   "metadata": {},
   "source": [
    "# Model Evaluation\n",
    "\n",
    "Run one of the models above and then run this evaluation"
   ]
  },
  {
   "cell_type": "code",
   "execution_count": 23,
   "metadata": {},
   "outputs": [
    {
     "name": "stdout",
     "output_type": "stream",
     "text": [
      "\u001b[1m409/409\u001b[0m \u001b[32m━━━━━━━━━━━━━━━━━━━━\u001b[0m\u001b[37m\u001b[0m \u001b[1m5s\u001b[0m 12ms/step - accuracy: 0.4108 - loss: 1.2780\n",
      "Test Accuracy: 38.93%\n",
      "\u001b[1m409/409\u001b[0m \u001b[32m━━━━━━━━━━━━━━━━━━━━\u001b[0m\u001b[37m\u001b[0m \u001b[1m6s\u001b[0m 13ms/step\n",
      "              precision    recall  f1-score   support\n",
      "\n",
      "         0.0       0.49      0.69      0.58      3724\n",
      "         1.0       0.12      0.07      0.09      1241\n",
      "         2.0       0.67      0.28      0.39      6783\n",
      "         3.0       0.13      0.42      0.19      1313\n",
      "\n",
      "    accuracy                           0.39     13061\n",
      "   macro avg       0.35      0.36      0.31     13061\n",
      "weighted avg       0.51      0.39      0.40     13061\n",
      "\n"
     ]
    },
    {
     "data": {
      "image/png": "[encoded data removed]",
      "text/plain": [
       "<Figure size 800x600 with 2 Axes>"
      ]
     },
     "metadata": {},
     "output_type": "display_data"
    }
   ],
   "source": [
    "import matplotlib.pyplot as plt\n",
    "import seaborn as sns\n",
    "from sklearn.metrics import confusion_matrix\n",
    "\n",
    "\n",
    "# Evaluate on test set\n",
    "loss, accuracy = model.evaluate(X_test, y_test)\n",
    "print(f\"Test Accuracy: {accuracy * 100:.2f}%\")\n",
    "\n",
    "# Get model predictions\n",
    "y_pred = model.predict(X_test)\n",
    "y_pred_classes = np.argmax(y_pred, axis=1)  # Convert probabilities to class labels\n",
    "\n",
    "from sklearn.metrics import classification_report\n",
    "report = classification_report(y_test, y_pred_classes)\n",
    "print(report)\n",
    "# Compute confusion matrix\n",
    "cm = confusion_matrix(y_test, y_pred_classes)\n",
    "\n",
    "# Plot the confusion matrix\n",
    "plt.figure(figsize=(8, 6))\n",
    "sns.heatmap(cm, annot=True, fmt=\"d\", cmap=\"Blues\", xticklabels=range(num_classes), yticklabels=range(num_classes))\n",
    "plt.xlabel(\"Predicted Label\")\n",
    "plt.ylabel(\"True Label\")\n",
    "plt.title(\"Confusion Matrix\")\n",
    "plt.show()\n"
   ]
  },
  {
   "cell_type": "code",
   "execution_count": null,
   "metadata": {},
   "outputs": [],
   "source": []
  }
 ],
 "metadata": {
  "kernelspec": {
   "display_name": "Python 3",
   "language": "python",
   "name": "python3"
  },
  "language_info": {
   "codemirror_mode": {
    "name": "ipython",
    "version": 3
   },
   "file_extension": ".py",
   "mimetype": "text/x-python",
   "name": "python",
   "nbconvert_exporter": "python",
   "pygments_lexer": "ipython3",
   "version": "3.12.1"
  }
 },
 "nbformat": 4,
 "nbformat_minor": 2
}
